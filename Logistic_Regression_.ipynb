{
  "nbformat": 4,
  "nbformat_minor": 0,
  "metadata": {
    "colab": {
      "provenance": [],
      "authorship_tag": "ABX9TyPrIX31lJjxp/BkjSuWcOPV",
      "include_colab_link": true
    },
    "kernelspec": {
      "name": "python3",
      "display_name": "Python 3"
    },
    "language_info": {
      "name": "python"
    }
  },
  "cells": [
    {
      "cell_type": "markdown",
      "metadata": {
        "id": "view-in-github",
        "colab_type": "text"
      },
      "source": [
        "<a href=\"https://colab.research.google.com/github/LK2705/sales-eda-project/blob/main/Logistic_Regression_.ipynb\" target=\"_parent\"><img src=\"https://colab.research.google.com/assets/colab-badge.svg\" alt=\"Open In Colab\"/></a>"
      ]
    },
    {
      "cell_type": "code",
      "execution_count": 1,
      "metadata": {
        "id": "MPxs0H3VgZQK",
        "colab": {
          "base_uri": "https://localhost:8080/"
        },
        "outputId": "e66484ad-d990-4f58-fe4f-2e413bccbd10"
      },
      "outputs": [
        {
          "output_type": "stream",
          "name": "stdout",
          "text": [
            "Dataset shape: (18289, 6)\n",
            "\n",
            "First few rows:\n",
            "  Order ID                     Product  Quantity Ordered  Price Each  \\\n",
            "0   176558        USB-C Charging Cable                 2       11.95   \n",
            "2   176559  Bose SoundSport Headphones                 1       99.99   \n",
            "3   176560                Google Phone                 1      600.00   \n",
            "4   176560            Wired Headphones                 1       11.99   \n",
            "5   176561            Wired Headphones                 1       11.99   \n",
            "\n",
            "           Order Date                      Purchase Address  \n",
            "0 2019-04-19 08:46:00          917 1st St, Dallas, TX 75001  \n",
            "2 2019-04-07 22:30:00     682 Chestnut St, Boston, MA 02215  \n",
            "3 2019-04-12 14:38:00  669 Spruce St, Los Angeles, CA 90001  \n",
            "4 2019-04-12 14:38:00  669 Spruce St, Los Angeles, CA 90001  \n",
            "5 2019-04-30 09:27:00     333 8th St, Los Angeles, CA 90001  \n",
            "\n",
            "Columns: ['Order ID', 'Product', 'Quantity Ordered', 'Price Each', 'Order Date', 'Purchase Address']\n"
          ]
        }
      ],
      "source": [
        "import pandas as pd\n",
        "import numpy as np\n",
        "from sklearn.model_selection import train_test_split\n",
        "from sklearn.linear_model import LogisticRegression\n",
        "from sklearn.preprocessing import StandardScaler, LabelEncoder\n",
        "from sklearn.metrics import classification_report, confusion_matrix, accuracy_score\n",
        "import matplotlib.pyplot as plt\n",
        "import seaborn as sns\n",
        "\n",
        "# Load the data\n",
        "df = pd.read_csv('/content/Sales_April_2019.csv')\n",
        "\n",
        "# Data cleaning\n",
        "# Remove empty rows\n",
        "df = df.dropna()\n",
        "df = df[df['Order ID'] != 'Order ID']  # Remove header rows that got mixed in\n",
        "\n",
        "# Convert data types\n",
        "df['Quantity Ordered'] = pd.to_numeric(df['Quantity Ordered'], errors='coerce')\n",
        "df['Price Each'] = pd.to_numeric(df['Price Each'], errors='coerce')\n",
        "df['Order Date'] = pd.to_datetime(df['Order Date'], format='%m/%d/%y %H:%M', errors='coerce')\n",
        "\n",
        "# Remove rows with missing values\n",
        "df = df.dropna()\n",
        "\n",
        "print(f\"Dataset shape: {df.shape}\")\n",
        "print(\"\\nFirst few rows:\")\n",
        "print(df.head())\n",
        "print(\"\\nColumns:\", df.columns.tolist())"
      ]
    },
    {
      "cell_type": "code",
      "source": [
        "# Feature Engineering\n",
        "# Create a binary target variable: 1 if product price is above median, 0 otherwise\n",
        "median_price = df['Price Each'].median()\n",
        "df['High_Value'] = (df['Price Each'] > median_price).astype(int)\n",
        "\n",
        "# Extract features from the data\n",
        "df['Hour'] = df['Order Date'].dt.hour\n",
        "df['DayOfWeek'] = df['Order Date'].dt.dayofweek\n",
        "df['Month'] = df['Order Date'].dt.month\n",
        "\n",
        "# Extract city from purchase address\n",
        "df['City'] = df['Purchase Address'].str.split(',').str[1].str.strip()\n",
        "\n",
        "# Create additional features\n",
        "df['Total_Value'] = df['Quantity Ordered'] * df['Price Each']\n",
        "\n",
        "print(f\"Median price: ${median_price:.2f}\")\n",
        "print(f\"High value items: {df['High_Value'].sum()} out of {len(df)}\")\n",
        "print(f\"Class distribution:\\n{df['High_Value'].value_counts()}\")"
      ],
      "metadata": {
        "colab": {
          "base_uri": "https://localhost:8080/"
        },
        "id": "de4_m4b2Ouxj",
        "outputId": "28327bd8-21cb-4684-e16c-f937ff0fbb9d"
      },
      "execution_count": 2,
      "outputs": [
        {
          "output_type": "stream",
          "name": "stdout",
          "text": [
            "Median price: $14.95\n",
            "High value items: 8067 out of 18289\n",
            "Class distribution:\n",
            "High_Value\n",
            "0    10222\n",
            "1     8067\n",
            "Name: count, dtype: int64\n"
          ]
        }
      ]
    },
    {
      "cell_type": "code",
      "source": [
        "# Select features for the model\n",
        "categorical_features = ['Product', 'City']\n",
        "numerical_features = ['Quantity Ordered', 'Hour', 'DayOfWeek', 'Month']\n",
        "\n",
        "# Encode categorical variables\n",
        "label_encoders = {}\n",
        "for col in categorical_features:\n",
        "    le = LabelEncoder()\n",
        "    df[col + '_encoded'] = le.fit_transform(df[col])\n",
        "    label_encoders[col] = le\n",
        "\n",
        "# Prepare feature matrix and target variable\n",
        "features = numerical_features + [col + '_encoded' for col in categorical_features]\n",
        "X = df[features]\n",
        "y = df['High_Value']\n",
        "\n",
        "print(f\"Features used: {features}\")\n",
        "print(f\"Feature matrix shape: {X.shape}\")"
      ],
      "metadata": {
        "colab": {
          "base_uri": "https://localhost:8080/"
        },
        "id": "0sTwwpn_OxoA",
        "outputId": "184a55e6-90a9-4e1b-da9a-4de762f40ef4"
      },
      "execution_count": 3,
      "outputs": [
        {
          "output_type": "stream",
          "name": "stdout",
          "text": [
            "Features used: ['Quantity Ordered', 'Hour', 'DayOfWeek', 'Month', 'Product_encoded', 'City_encoded']\n",
            "Feature matrix shape: (18289, 6)\n"
          ]
        }
      ]
    },
    {
      "cell_type": "code",
      "source": [
        "# Split the data\n",
        "X_train, X_test, y_train, y_test = train_test_split(\n",
        "    X, y, test_size=0.3, random_state=42, stratify=y\n",
        ")\n",
        "\n",
        "# Scale the features\n",
        "scaler = StandardScaler()\n",
        "X_train_scaled = scaler.fit_transform(X_train)\n",
        "X_test_scaled = scaler.transform(X_test)\n",
        "\n",
        "# Train logistic regression model\n",
        "logreg = LogisticRegression(random_state=42, max_iter=1000)\n",
        "logreg.fit(X_train_scaled, y_train)\n",
        "\n",
        "# Make predictions\n",
        "y_pred = logreg.predict(X_test_scaled)\n",
        "y_pred_proba = logreg.predict_proba(X_test_scaled)[:, 1]\n",
        "\n",
        "# Evaluate the model\n",
        "accuracy = accuracy_score(y_test, y_pred)\n",
        "print(f\"Accuracy: {accuracy:.4f}\")\n",
        "print(\"\\nClassification Report:\")\n",
        "print(classification_report(y_test, y_pred))"
      ],
      "metadata": {
        "colab": {
          "base_uri": "https://localhost:8080/"
        },
        "id": "xr94CQyeO0c4",
        "outputId": "753fe89e-afe6-4926-d8c6-8d64cd806cf4"
      },
      "execution_count": 4,
      "outputs": [
        {
          "output_type": "stream",
          "name": "stdout",
          "text": [
            "Accuracy: 0.7243\n",
            "\n",
            "Classification Report:\n",
            "              precision    recall  f1-score   support\n",
            "\n",
            "           0       0.77      0.73      0.75      3067\n",
            "           1       0.67      0.72      0.70      2420\n",
            "\n",
            "    accuracy                           0.72      5487\n",
            "   macro avg       0.72      0.72      0.72      5487\n",
            "weighted avg       0.73      0.72      0.73      5487\n",
            "\n"
          ]
        }
      ]
    },
    {
      "cell_type": "code",
      "source": [
        "# Confusion Matrix\n",
        "plt.figure(figsize=(8, 6))\n",
        "cm = confusion_matrix(y_test, y_pred)\n",
        "sns.heatmap(cm, annot=True, fmt='d', cmap='Blues',\n",
        "            xticklabels=['Low Value', 'High Value'],\n",
        "            yticklabels=['Low Value', 'High Value'])\n",
        "plt.title('Confusion Matrix')\n",
        "plt.ylabel('Actual')\n",
        "plt.xlabel('Predicted')\n",
        "plt.show()\n",
        "\n",
        "# Feature importance\n",
        "feature_importance = pd.DataFrame({\n",
        "    'feature': features,\n",
        "    'importance': abs(logreg.coef_[0])\n",
        "}).sort_values('importance', ascending=False)\n",
        "\n",
        "print(\"\\nFeature Importance:\")\n",
        "print(feature_importance)\n",
        "\n",
        "# Model coefficients\n",
        "coefficients = pd.DataFrame({\n",
        "    'feature': features,\n",
        "    'coefficient': logreg.coef_[0]\n",
        "}).sort_values('coefficient', ascending=False)\n",
        "\n",
        "print(\"\\nModel Coefficients:\")\n",
        "print(coefficients)"
      ],
      "metadata": {
        "colab": {
          "base_uri": "https://localhost:8080/",
          "height": 885
        },
        "id": "udyptvDSO3i-",
        "outputId": "7e489dc6-7091-42e0-bd7d-8d79a3fd4a87"
      },
      "execution_count": 5,
      "outputs": [
        {
          "output_type": "display_data",
          "data": {
            "text/plain": [
              "<Figure size 800x600 with 2 Axes>"
            ],
            "image/png": "[encoded data removed]"
          },
          "metadata": {}
        },
        {
          "output_type": "stream",
          "name": "stdout",
          "text": [
            "\n",
            "Feature Importance:\n",
            "            feature  importance\n",
            "0  Quantity Ordered    1.716867\n",
            "4   Product_encoded    0.720592\n",
            "3             Month    0.064533\n",
            "2         DayOfWeek    0.040458\n",
            "5      City_encoded    0.009393\n",
            "1              Hour    0.009015\n",
            "\n",
            "Model Coefficients:\n",
            "            feature  coefficient\n",
            "3             Month     0.064533\n",
            "1              Hour     0.009015\n",
            "5      City_encoded    -0.009393\n",
            "2         DayOfWeek    -0.040458\n",
            "4   Product_encoded    -0.720592\n",
            "0  Quantity Ordered    -1.716867\n"
          ]
        }
      ]
    },
    {
      "cell_type": "code",
      "source": [
        "# Product analysis\n",
        "product_analysis = df.groupby('Product').agg({\n",
        "    'Price Each': 'mean',\n",
        "    'Quantity Ordered': 'sum',\n",
        "    'High_Value': 'mean',\n",
        "    'Order ID': 'count'\n",
        "}).rename(columns={'Order ID': 'Count'}).sort_values('Price Each', ascending=False)\n",
        "\n",
        "print(\"\\nTop 10 Most Expensive Products:\")\n",
        "print(product_analysis.head(10))\n",
        "\n",
        "print(\"\\nTop 10 Most Frequently Ordered Products:\")\n",
        "print(product_analysis.sort_values('Count', ascending=False).head(10))\n",
        "\n",
        "# City analysis\n",
        "city_analysis = df.groupby('City').agg({\n",
        "    'Price Each': 'mean',\n",
        "    'High_Value': 'mean',\n",
        "    'Total_Value': 'sum',\n",
        "    'Order ID': 'count'\n",
        "}).rename(columns={'Order ID': 'Count'}).sort_values('Total_Value', ascending=False)\n",
        "\n",
        "print(\"\\nCity-wise Sales Analysis:\")\n",
        "print(city_analysis)"
      ],
      "metadata": {
        "colab": {
          "base_uri": "https://localhost:8080/"
        },
        "id": "gE1NaXEgO6fP",
        "outputId": "8ff10d0b-1737-4388-c18f-c94a093f1bd1"
      },
      "execution_count": 6,
      "outputs": [
        {
          "output_type": "stream",
          "name": "stdout",
          "text": [
            "\n",
            "Top 10 Most Expensive Products:\n",
            "                        Price Each  Quantity Ordered  High_Value  Count\n",
            "Product                                                                \n",
            "Macbook Pro Laptop         1700.00               455         1.0    453\n",
            "ThinkPad Laptop             999.99               392         1.0    392\n",
            "iPhone                      700.00               695         1.0    693\n",
            "LG Washing Machine          600.00                61         1.0     61\n",
            "LG Dryer                    600.00                77         1.0     77\n",
            "Google Phone                600.00               581         1.0    581\n",
            "Vareebadd Phone             400.00               220         1.0    220\n",
            "27in 4K Gaming Monitor      389.99               565         1.0    563\n",
            "34in Ultrawide Monitor      379.99               653         1.0    650\n",
            "Flatscreen TV               300.00               459         1.0    458\n",
            "\n",
            "Top 10 Most Frequently Ordered Products:\n",
            "                            Price Each  Quantity Ordered  High_Value  Count\n",
            "Product                                                                    \n",
            "Lightning Charging Cable         14.95              2371         0.0   2201\n",
            "USB-C Charging Cable             11.95              2270         0.0   2079\n",
            "AA Batteries (4-pack)             3.84              2822         0.0   2063\n",
            "AAA Batteries (4-pack)            2.99              2936         0.0   1989\n",
            "Wired Headphones                 11.99              2066         0.0   1890\n",
            "Apple Airpods Headphones        150.00              1525         1.0   1515\n",
            "Bose SoundSport Headphones       99.99              1288         1.0   1280\n",
            "27in FHD Monitor                149.99               737         1.0    734\n",
            "iPhone                          700.00               695         1.0    693\n",
            "34in Ultrawide Monitor          379.99               653         1.0    650\n",
            "\n",
            "City-wise Sales Analysis:\n",
            "               Price Each  High_Value  Total_Value  Count\n",
            "City                                                     \n",
            "San Francisco  182.632028    0.435880    817074.77   4437\n",
            "Los Angeles    181.094190    0.433245    551399.07   3026\n",
            "New York City  181.755415    0.441660    446587.78   2434\n",
            "Boston         183.390381    0.430136    353880.16   1918\n",
            "Atlanta        192.173832    0.453804    284454.92   1472\n",
            "Seattle        190.322323    0.464632    276010.24   1442\n",
            "Dallas         186.436326    0.445926    252840.47   1350\n",
            "Portland       194.092902    0.452708    241128.11   1237\n",
            "Austin         176.246300    0.433710    172683.59    973\n"
          ]
        }
      ]
    }
  ]
}